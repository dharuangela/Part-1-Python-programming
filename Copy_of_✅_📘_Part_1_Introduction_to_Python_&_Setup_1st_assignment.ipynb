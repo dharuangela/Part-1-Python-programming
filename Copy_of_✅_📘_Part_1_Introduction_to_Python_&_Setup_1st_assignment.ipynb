{
  "nbformat": 4,
  "nbformat_minor": 0,
  "metadata": {
    "colab": {
      "provenance": []
    },
    "kernelspec": {
      "name": "python3",
      "display_name": "Python 3"
    },
    "language_info": {
      "name": "python"
    }
  },
  "cells": [
    {
      "cell_type": "markdown",
      "source": [
        "# **🏷️ 1️⃣ Welcome & What is Python?**"
      ],
      "metadata": {
        "id": "sV00UBeTgH9o"
      }
    },
    {
      "cell_type": "markdown",
      "source": [
        "# 👋 Welcome to Python Programming!\n",
        "\n",
        "In this course, you will learn Python from scratch, step-by-step, using Google Colab notebooks.\n",
        "\n",
        "## What is Python?\n",
        "\n",
        "- Python is a popular, high-level programming language.\n",
        "- It is used for web development, data science, artificial intelligence, and more.\n",
        "- Python is easy to read and beginner-friendly.\n",
        "\n",
        "## Why learn Python?\n",
        "\n",
        "✅ Easy syntax  \n",
        "✅ Lots of free libraries  \n",
        "✅ Huge community support  \n",
        "✅ Excellent for Data Science and AI"
      ],
      "metadata": {
        "id": "ijOlFllcgJ_f"
      }
    },
    {
      "cell_type": "markdown",
      "source": [
        "# **🏷️ 2️⃣ How to Use Google Colab**"
      ],
      "metadata": {
        "id": "J-dohT-VgRb4"
      }
    },
    {
      "cell_type": "markdown",
      "source": [
        "# 📒 Google Colab\n",
        "\n",
        "- Colab is an online tool where you can write and run Python code in your browser.\n",
        "- No installation needed!\n",
        "- You can combine **text (Markdown)** and **code** in one notebook."
      ],
      "metadata": {
        "id": "eInMIxTxgaAf"
      }
    },
    {
      "cell_type": "markdown",
      "source": [
        "## Example of a text cell:\n",
        "This is a text cell!"
      ],
      "metadata": {
        "id": "GdCkOAVggiMv"
      }
    },
    {
      "cell_type": "code",
      "execution_count": null,
      "metadata": {
        "id": "QGtpXJbxgCGn"
      },
      "outputs": [],
      "source": [
        "# Example of a code cell:"
      ]
    },
    {
      "cell_type": "code",
      "source": [
        "# This is a code cell\n",
        "print(\"Hello, Python World!\")"
      ],
      "metadata": {
        "colab": {
          "base_uri": "https://localhost:8080/"
        },
        "id": "FAda6a9Agx-3",
        "outputId": "e2386266-71de-43c5-fd32-d86fc11dae9f"
      },
      "execution_count": null,
      "outputs": [
        {
          "output_type": "stream",
          "name": "stdout",
          "text": [
            "Hello, Python World!\n"
          ]
        }
      ]
    },
    {
      "cell_type": "markdown",
      "source": [
        "# **🏷️ 3️⃣ Python Syntax Basics**"
      ],
      "metadata": {
        "id": "TuId1ki6g1Ae"
      }
    },
    {
      "cell_type": "markdown",
      "source": [
        "# 🐍 Python Syntax Rules\n",
        "\n",
        "- Python uses **indentation** instead of braces `{}`.\n",
        "- Each statement goes on a new line.\n",
        "- Comments start with `#`.\n",
        "\n",
        "## Example:\n"
      ],
      "metadata": {
        "id": "LK2LLvfCg33_"
      }
    },
    {
      "cell_type": "code",
      "source": [
        "if 10>20:\n",
        "  print('if')\n",
        "else:\n",
        "  print('else')"
      ],
      "metadata": {
        "colab": {
          "base_uri": "https://localhost:8080/"
        },
        "id": "RvpbhTqBO0ie",
        "outputId": "62d5d58d-8580-453a-8165-e2ad79b6fc54"
      },
      "execution_count": null,
      "outputs": [
        {
          "output_type": "stream",
          "name": "stdout",
          "text": [
            "else\n"
          ]
        }
      ]
    },
    {
      "cell_type": "code",
      "source": [
        "# This is a comment\n",
        "name = \"Alice\"  # This is a variable\n",
        "print(\"Hello\", name)"
      ],
      "metadata": {
        "colab": {
          "base_uri": "https://localhost:8080/"
        },
        "id": "JcGJkD2pg2YG",
        "outputId": "3e6d45a6-ee27-4a5d-ce05-dadb3d798b33"
      },
      "execution_count": null,
      "outputs": [
        {
          "output_type": "stream",
          "name": "stdout",
          "text": [
            "Hello Alice\n"
          ]
        }
      ]
    },
    {
      "cell_type": "markdown",
      "source": [
        "# **🏷️ 4️⃣ Your First Python Program**"
      ],
      "metadata": {
        "id": "ZiJVDAUFg_-P"
      }
    },
    {
      "cell_type": "markdown",
      "source": [
        "# ✅ Let's write our first program!\n",
        "\n",
        "Type this in a code cell and run it:"
      ],
      "metadata": {
        "id": "d_QMxuiEhCI3"
      }
    },
    {
      "cell_type": "code",
      "source": [
        "print(\"Hello, World!\")"
      ],
      "metadata": {
        "colab": {
          "base_uri": "https://localhost:8080/"
        },
        "id": "dGQrEXzVg8bi",
        "outputId": "d71b62cb-e8ee-492b-ea29-99236a6e47a2"
      },
      "execution_count": null,
      "outputs": [
        {
          "output_type": "stream",
          "name": "stdout",
          "text": [
            "Hello, World!\n"
          ]
        }
      ]
    },
    {
      "cell_type": "code",
      "source": [
        "print('''Hello, World!''')"
      ],
      "metadata": {
        "colab": {
          "base_uri": "https://localhost:8080/"
        },
        "id": "TqXv9SFBP8xy",
        "outputId": "b91ba3b9-53a7-43fb-f80d-7e0383673e36"
      },
      "execution_count": null,
      "outputs": [
        {
          "output_type": "stream",
          "name": "stdout",
          "text": [
            "Hello, World!\n"
          ]
        }
      ]
    },
    {
      "cell_type": "code",
      "source": [
        "# comment"
      ],
      "metadata": {
        "id": "H0wGFWVbQHaF"
      },
      "execution_count": null,
      "outputs": []
    },
    {
      "cell_type": "code",
      "source": [
        "'''\n",
        "comment\n",
        "'''"
      ],
      "metadata": {
        "colab": {
          "base_uri": "https://localhost:8080/",
          "height": 36
        },
        "id": "AGjM9CO-QKR2",
        "outputId": "1a24238f-282e-4afa-9d54-a3d52f57c31b"
      },
      "execution_count": null,
      "outputs": [
        {
          "output_type": "execute_result",
          "data": {
            "text/plain": [
              "'\\ncomment\\n'"
            ],
            "application/vnd.google.colaboratory.intrinsic+json": {
              "type": "string"
            }
          },
          "metadata": {},
          "execution_count": 13
        }
      ]
    },
    {
      "cell_type": "markdown",
      "source": [
        "# **🏷️ 5️⃣ Variables and Data Types (Quick Intro)**"
      ],
      "metadata": {
        "id": "f73E1RPnhNoP"
      }
    },
    {
      "cell_type": "markdown",
      "source": [
        "# 📌 Variables store information.\n",
        "\n",
        "Examples:"
      ],
      "metadata": {
        "id": "iglUfs8QhPY3"
      }
    },
    {
      "cell_type": "code",
      "source": [
        "pi = 3.14159265359"
      ],
      "metadata": {
        "id": "6KqJ3sUkQ1rH"
      },
      "execution_count": null,
      "outputs": []
    },
    {
      "cell_type": "code",
      "source": [
        "f1 = 4*8+pi"
      ],
      "metadata": {
        "id": "GVOY1K3LQ64y"
      },
      "execution_count": null,
      "outputs": []
    },
    {
      "cell_type": "code",
      "source": [
        "f2 = 3/8+9 + pi"
      ],
      "metadata": {
        "id": "PA8jBdNWQ6vS"
      },
      "execution_count": null,
      "outputs": []
    },
    {
      "cell_type": "code",
      "source": [
        "type(23)"
      ],
      "metadata": {
        "colab": {
          "base_uri": "https://localhost:8080/"
        },
        "id": "fjKImfwzRb_9",
        "outputId": "e880205e-a573-4ebc-90b7-c86e13893110"
      },
      "execution_count": null,
      "outputs": [
        {
          "output_type": "execute_result",
          "data": {
            "text/plain": [
              "int"
            ]
          },
          "metadata": {},
          "execution_count": 17
        }
      ]
    },
    {
      "cell_type": "code",
      "source": [
        "type(3.14159265359)"
      ],
      "metadata": {
        "colab": {
          "base_uri": "https://localhost:8080/"
        },
        "id": "kRHaqNLARb7V",
        "outputId": "95bb4424-4a39-48f3-9a40-f543044311a7"
      },
      "execution_count": null,
      "outputs": [
        {
          "output_type": "execute_result",
          "data": {
            "text/plain": [
              "float"
            ]
          },
          "metadata": {},
          "execution_count": 18
        }
      ]
    },
    {
      "cell_type": "code",
      "source": [
        "type(True)"
      ],
      "metadata": {
        "colab": {
          "base_uri": "https://localhost:8080/"
        },
        "id": "blceIsYERlec",
        "outputId": "69460ba7-b1d3-4102-c9f0-b98b1fbba692"
      },
      "execution_count": null,
      "outputs": [
        {
          "output_type": "execute_result",
          "data": {
            "text/plain": [
              "bool"
            ]
          },
          "metadata": {},
          "execution_count": 21
        }
      ]
    },
    {
      "cell_type": "code",
      "source": [
        "# int a = 5"
      ],
      "metadata": {
        "id": "Og8mI_PORb4C"
      },
      "execution_count": null,
      "outputs": []
    },
    {
      "cell_type": "code",
      "source": [
        "a = 1"
      ],
      "metadata": {
        "id": "cPGwxcpKR5KR"
      },
      "execution_count": null,
      "outputs": []
    },
    {
      "cell_type": "code",
      "source": [
        "type(a)"
      ],
      "metadata": {
        "colab": {
          "base_uri": "https://localhost:8080/"
        },
        "id": "lJ0VoezRR6qW",
        "outputId": "9ec0f5ea-6b4e-4888-e0cd-589a048f334c"
      },
      "execution_count": null,
      "outputs": [
        {
          "output_type": "execute_result",
          "data": {
            "text/plain": [
              "int"
            ]
          },
          "metadata": {},
          "execution_count": 33
        }
      ]
    },
    {
      "cell_type": "code",
      "source": [
        "print('a')"
      ],
      "metadata": {
        "colab": {
          "base_uri": "https://localhost:8080/"
        },
        "id": "2OZBeShMSd2P",
        "outputId": "5b6dd99b-7118-4708-e7b7-47dd1a6b8104"
      },
      "execution_count": null,
      "outputs": [
        {
          "output_type": "stream",
          "name": "stdout",
          "text": [
            "a\n"
          ]
        }
      ]
    },
    {
      "cell_type": "code",
      "source": [
        "print(a)"
      ],
      "metadata": {
        "colab": {
          "base_uri": "https://localhost:8080/"
        },
        "id": "V-HxwYlQShk2",
        "outputId": "73bb09b0-c165-426b-c243-0e2c2a91909b"
      },
      "execution_count": null,
      "outputs": [
        {
          "output_type": "stream",
          "name": "stdout",
          "text": [
            "1\n"
          ]
        }
      ]
    },
    {
      "cell_type": "code",
      "source": [
        "print('The value of a is',a,'is the value')"
      ],
      "metadata": {
        "colab": {
          "base_uri": "https://localhost:8080/"
        },
        "id": "_pwU0ZUuSW91",
        "outputId": "cad4ea3a-5074-4a1b-8fa7-eccb0285fb4c"
      },
      "execution_count": null,
      "outputs": [
        {
          "output_type": "stream",
          "name": "stdout",
          "text": [
            "The value of a is 1 is the value\n"
          ]
        }
      ]
    },
    {
      "cell_type": "code",
      "source": [
        "age = 25"
      ],
      "metadata": {
        "id": "8O9Rc-aWTVdV"
      },
      "execution_count": null,
      "outputs": []
    },
    {
      "cell_type": "code",
      "source": [
        "type(25)"
      ],
      "metadata": {
        "colab": {
          "base_uri": "https://localhost:8080/"
        },
        "id": "MaGaGDptTWId",
        "outputId": "18f578a6-9b32-4d72-911f-33d3ebd29e5c"
      },
      "execution_count": null,
      "outputs": [
        {
          "output_type": "execute_result",
          "data": {
            "text/plain": [
              "int"
            ]
          },
          "metadata": {},
          "execution_count": 40
        }
      ]
    },
    {
      "cell_type": "code",
      "source": [
        "type(age)"
      ],
      "metadata": {
        "colab": {
          "base_uri": "https://localhost:8080/"
        },
        "id": "Gw5o9gk8TX2S",
        "outputId": "9d27f409-7a3e-407a-8ae8-128f3a353ece"
      },
      "execution_count": null,
      "outputs": [
        {
          "output_type": "execute_result",
          "data": {
            "text/plain": [
              "int"
            ]
          },
          "metadata": {},
          "execution_count": 41
        }
      ]
    },
    {
      "cell_type": "code",
      "source": [
        "age"
      ],
      "metadata": {
        "colab": {
          "base_uri": "https://localhost:8080/"
        },
        "id": "WC3SEmzGTbmX",
        "outputId": "111815d7-7a10-4969-d0aa-39905d9c95a1"
      },
      "execution_count": null,
      "outputs": [
        {
          "output_type": "execute_result",
          "data": {
            "text/plain": [
              "25"
            ]
          },
          "metadata": {},
          "execution_count": 42
        }
      ]
    },
    {
      "cell_type": "code",
      "source": [
        "type(5.8)"
      ],
      "metadata": {
        "colab": {
          "base_uri": "https://localhost:8080/"
        },
        "id": "5qb0XbXrTvCo",
        "outputId": "28a773e3-f292-4cdd-beb5-e91a0cbefd5a"
      },
      "execution_count": null,
      "outputs": [
        {
          "output_type": "execute_result",
          "data": {
            "text/plain": [
              "float"
            ]
          },
          "metadata": {},
          "execution_count": 43
        }
      ]
    },
    {
      "cell_type": "code",
      "source": [
        "# Numbers\n",
        "age = 25 # Variable = Value\n",
        "height = 5.8\n",
        "\n",
        "# Strings (text)\n",
        "name = \"Bob\"\n",
        "\n",
        "# Boolean (True or False)\n",
        "is_student = True\n",
        "\n",
        "print(name, age, is_student)"
      ],
      "metadata": {
        "colab": {
          "base_uri": "https://localhost:8080/"
        },
        "id": "Ck6Bj8jkhD9w",
        "outputId": "2c80d9cb-58e2-4619-a4cf-b0453aea6baf"
      },
      "execution_count": null,
      "outputs": [
        {
          "output_type": "stream",
          "name": "stdout",
          "text": [
            "Bob 25 True\n"
          ]
        }
      ]
    },
    {
      "cell_type": "markdown",
      "source": [
        "# **🏷️ 6️⃣ Basic Arithmetic**"
      ],
      "metadata": {
        "id": "3mL3IIHgh7Bf"
      }
    },
    {
      "cell_type": "markdown",
      "source": [
        "# ➗ Python can do calculations.\n",
        "\n",
        "Try:"
      ],
      "metadata": {
        "id": "Y3FOrQG5h-Zv"
      }
    },
    {
      "cell_type": "code",
      "source": [
        "a = 5\n",
        "b = 3"
      ],
      "metadata": {
        "id": "rxEph-lbUsL2"
      },
      "execution_count": null,
      "outputs": []
    },
    {
      "cell_type": "code",
      "source": [
        "5*5*5"
      ],
      "metadata": {
        "colab": {
          "base_uri": "https://localhost:8080/"
        },
        "id": "ya-slPq2VLTk",
        "outputId": "7dbc590f-cc94-40f7-9c3f-562dbe03bbbb"
      },
      "execution_count": null,
      "outputs": [
        {
          "output_type": "execute_result",
          "data": {
            "text/plain": [
              "125"
            ]
          },
          "metadata": {},
          "execution_count": 55
        }
      ]
    },
    {
      "cell_type": "code",
      "source": [
        "print(\"Add:\",a,b,a**b)"
      ],
      "metadata": {
        "colab": {
          "base_uri": "https://localhost:8080/"
        },
        "id": "qZ05nIZTUtiu",
        "outputId": "205d4106-9c9e-47a3-e31f-9406e1ff4d9f"
      },
      "execution_count": null,
      "outputs": [
        {
          "output_type": "stream",
          "name": "stdout",
          "text": [
            "Add: 5 3 125\n"
          ]
        }
      ]
    },
    {
      "cell_type": "code",
      "source": [
        "a = 5\n",
        "b = 2\n",
        "\n",
        "print(\"Add:\", a + b)\n",
        "print(\"Subtract:\", a - b)\n",
        "print(\"Multiply:\", a * b)\n",
        "print(\"Divide:\", a / b)\n",
        "print(\"Power:\", a ** b)"
      ],
      "metadata": {
        "colab": {
          "base_uri": "https://localhost:8080/"
        },
        "id": "UStzPR_Oh9Pv",
        "outputId": "84933aef-9c92-4a18-c178-a575361c2b43"
      },
      "execution_count": null,
      "outputs": [
        {
          "output_type": "stream",
          "name": "stdout",
          "text": [
            "Add: 7\n",
            "Subtract: 3\n",
            "Multiply: 10\n",
            "Divide: 2.5\n",
            "Power: 25\n"
          ]
        }
      ]
    },
    {
      "cell_type": "markdown",
      "source": [
        "# **🏷️ 7️⃣ Comments**"
      ],
      "metadata": {
        "id": "7TZGuzA6iHaP"
      }
    },
    {
      "cell_type": "markdown",
      "source": [
        "# 💡 Comments help explain code.\n",
        "\n",
        "- Use `#` for single-line comments."
      ],
      "metadata": {
        "id": "DsXeg_6biLJg"
      }
    },
    {
      "cell_type": "code",
      "source": [
        "# This is a comment\n",
        "x = 10  # Variable storing number 10\n",
        "print(x)  # Print value of x"
      ],
      "metadata": {
        "colab": {
          "base_uri": "https://localhost:8080/"
        },
        "id": "1H4-hx4GiAvx",
        "outputId": "d7c265ed-618d-4f1f-ca5e-c954a6b48925"
      },
      "execution_count": null,
      "outputs": [
        {
          "output_type": "stream",
          "name": "stdout",
          "text": [
            "10\n"
          ]
        }
      ]
    },
    {
      "cell_type": "code",
      "source": [
        "'''This is a comment'''"
      ],
      "metadata": {
        "colab": {
          "base_uri": "https://localhost:8080/",
          "height": 35
        },
        "id": "MM2z-XJVimxX",
        "outputId": "e9ff9d7d-2c6e-41f0-e014-1369906aab5f"
      },
      "execution_count": null,
      "outputs": [
        {
          "output_type": "execute_result",
          "data": {
            "text/plain": [
              "'This is a comment'"
            ],
            "application/vnd.google.colaboratory.intrinsic+json": {
              "type": "string"
            }
          },
          "metadata": {},
          "execution_count": 10
        }
      ]
    },
    {
      "cell_type": "markdown",
      "source": [
        "# **🏷️ 8️⃣ Practice Tasks**"
      ],
      "metadata": {
        "id": "zmq71eUnivkv"
      }
    },
    {
      "cell_type": "markdown",
      "source": [
        "# 🎯 Practice\n",
        "\n",
        "✅ 1. Print your name and age.  \n",
        "✅ 2. Calculate 10 + 5 * 2  \n",
        "✅ 3. Write a comment about your calculation.\n",
        "\n",
        "👉 Try in a new code cell below:"
      ],
      "metadata": {
        "id": "HvkGs05Uiyn_"
      }
    },
    {
      "cell_type": "code",
      "source": [
        "print(\"Angela, 35yrs\")"
      ],
      "metadata": {
        "id": "NamJPPrgiOgv",
        "colab": {
          "base_uri": "https://localhost:8080/"
        },
        "outputId": "34f8373e-c945-4889-bbd0-8df99a0b4b56"
      },
      "execution_count": null,
      "outputs": [
        {
          "output_type": "stream",
          "name": "stdout",
          "text": [
            "Angela, 35yrs\n"
          ]
        }
      ]
    },
    {
      "cell_type": "code",
      "source": [
        "print(10+5*2)"
      ],
      "metadata": {
        "colab": {
          "base_uri": "https://localhost:8080/"
        },
        "id": "mGV7FgKlnPKI",
        "outputId": "76ca5658-fe5f-484c-be0a-84b87bf6772a"
      },
      "execution_count": null,
      "outputs": [
        {
          "output_type": "stream",
          "name": "stdout",
          "text": [
            "20\n"
          ]
        }
      ]
    },
    {
      "cell_type": "code",
      "source": [
        "'''\n",
        "I have calculated 10+5*2, first we have to multiply 5*2, which is equal to 10, then we have to add 10+10, then we get our answer 20\n",
        "'''"
      ],
      "metadata": {
        "id": "8nGgAvI8odms"
      },
      "execution_count": null,
      "outputs": []
    },
    {
      "cell_type": "markdown",
      "source": [
        "# **🏷️ 9️⃣ Quick Quiz**"
      ],
      "metadata": {
        "id": "-Vnn1NDbi39Q"
      }
    },
    {
      "cell_type": "markdown",
      "source": [
        "# ✅ Quick Quiz\n",
        "\n",
        "1️⃣ What symbol is used for comments in Python?  \n",
        "2️⃣ How do you print text in Python?  \n",
        "3️⃣ What is the output of `3 ** 2`?"
      ],
      "metadata": {
        "id": "dCZLWv34i8Sn"
      }
    },
    {
      "cell_type": "markdown",
      "source": [
        "\n",
        "\n",
        "1.   We use an **#** for a single line comment  or **'''    '''** if it is long.\n",
        "2.   Type print, open double inverted comma and type the text inside the double inverted comma...\n",
        "\n",
        "\n",
        "\n"
      ],
      "metadata": {
        "id": "0JkI2-1-NLv1"
      }
    },
    {
      "cell_type": "code",
      "source": [
        "print(3**2)"
      ],
      "metadata": {
        "colab": {
          "base_uri": "https://localhost:8080/"
        },
        "id": "vszOjUA4pL9n",
        "outputId": "47313ac4-be18-4aea-8aa1-d80cbb83220a"
      },
      "execution_count": null,
      "outputs": [
        {
          "output_type": "stream",
          "name": "stdout",
          "text": [
            "9\n"
          ]
        }
      ]
    },
    {
      "cell_type": "code",
      "source": [
        "'''\n",
        "3**2, this means it is 3 to the power of 2, it can also be written as 3*3 or 3^2\n",
        "'''"
      ],
      "metadata": {
        "id": "Ae8wifj1pTPU"
      },
      "execution_count": null,
      "outputs": []
    },
    {
      "cell_type": "markdown",
      "source": [
        "# **🏷️ 1️⃣0️⃣ Next Steps**"
      ],
      "metadata": {
        "id": "6gq_4lusjCKH"
      }
    },
    {
      "cell_type": "markdown",
      "source": [
        "# 🚀 Great Job!\n",
        "\n",
        "You have learned:\n",
        "- What Python is\n",
        "- How to run Python in Colab\n",
        "- How to write your first program\n",
        "- How to use variables and print output\n",
        "\n",
        "👉 Next, we will dive deeper into **Data Types, Variables, and Operators**!"
      ],
      "metadata": {
        "id": "QE7sd0n3jEPH"
      }
    }
  ]
}
